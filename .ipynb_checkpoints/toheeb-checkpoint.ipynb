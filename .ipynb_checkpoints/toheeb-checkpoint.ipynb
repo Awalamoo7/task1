{
 "cells": [
  {
   "cell_type": "markdown",
   "metadata": {},
   "source": [
    "### This is first task for Toheeb Yusuf"
   ]
  },
  {
   "cell_type": "code",
   "execution_count": null,
   "metadata": {},
   "outputs": [],
   "source": [
    "# using the print function to output a string value\n",
    "name = 'Toheeb'\n",
    "print('hello world my name is {}'.format(name))"
   ]
  },
  {
   "cell_type": "code",
   "execution_count": null,
   "metadata": {},
   "outputs": [],
   "source": [
    "# variables\n",
    "x = 12\n",
    "x += 1\n",
    "x += 24\n",
    "print(x)"
   ]
  },
  {
   "cell_type": "code",
   "execution_count": null,
   "metadata": {},
   "outputs": [],
   "source": [
    "a = 22\n",
    "print(b+1)"
   ]
  },
  {
   "cell_type": "code",
   "execution_count": null,
   "metadata": {},
   "outputs": [],
   "source": [
    "# string concatenation\n",
    "a = 'Yusuf'\n",
    "b = 'Toheeb'\n",
    "print(a + ' ' + b)"
   ]
  },
  {
   "cell_type": "code",
   "execution_count": null,
   "metadata": {},
   "outputs": [],
   "source": [
    "q,r,s = 1,2,3\n",
    "print(q, r, s, q+r, q+s, r+s)"
   ]
  },
  {
   "cell_type": "code",
   "execution_count": null,
   "metadata": {},
   "outputs": [],
   "source": [
    "# importing math function\n",
    "import math\n",
    "print(math.floor(25.3434))"
   ]
  },
  {
   "cell_type": "code",
   "execution_count": null,
   "metadata": {},
   "outputs": [],
   "source": [
    "# initializing a list and adding square of the numbers from 2 to 5\n",
    "my_list = []\n",
    "# for loop\n",
    "for i in range(2,6):\n",
    "    my_list.append(i**2)\n",
    "print(my_list)"
   ]
  },
  {
   "cell_type": "code",
   "execution_count": null,
   "metadata": {},
   "outputs": [],
   "source": [
    "# creating a dictionary of fruits with their quantity\n",
    "fruits = {\n",
    "    'orange': 2,\n",
    "    'apple': 5,\n",
    "    'pineapple': 1,\n",
    "    'banana': 4,\n",
    "    'grape': 2\n",
    "}\n",
    "# get the value for orange\n",
    "print(fruits['orange'])"
   ]
  },
  {
   "cell_type": "code",
   "execution_count": null,
   "metadata": {},
   "outputs": [],
   "source": []
  }
 ],
 "metadata": {
  "kernelspec": {
   "display_name": "Python 3",
   "language": "python",
   "name": "python3"
  },
  "language_info": {
   "codemirror_mode": {
    "name": "ipython",
    "version": 3
   },
   "file_extension": ".py",
   "mimetype": "text/x-python",
   "name": "python",
   "nbconvert_exporter": "python",
   "pygments_lexer": "ipython3",
   "version": "3.7.3"
  }
 },
 "nbformat": 4,
 "nbformat_minor": 2
}
